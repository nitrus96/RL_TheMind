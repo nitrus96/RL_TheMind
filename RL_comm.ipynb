{
  "nbformat": 4,
  "nbformat_minor": 0,
  "metadata": {
    "colab": {
      "name": "RL_comm.ipynb",
      "provenance": [],
      "collapsed_sections": [],
      "authorship_tag": "ABX9TyPZxR2y4xIxr8P5lx7grTAT"
    },
    "kernelspec": {
      "name": "python3",
      "display_name": "Python 3"
    },
    "accelerator": "GPU"
  },
  "cells": [
    {
      "cell_type": "markdown",
      "metadata": {
        "id": "bByAgYwj84q-",
        "colab_type": "text"
      },
      "source": [
        "**Imports**"
      ]
    },
    {
      "cell_type": "code",
      "metadata": {
        "id": "4T4ejPwM89n5",
        "colab_type": "code",
        "colab": {}
      },
      "source": [
        "import torch \n",
        "import random\n",
        "import copy\n",
        "import matplotlib.pyplot as plt\n",
        "import torch.nn as nn\n",
        "import numpy as np\n",
        "\n",
        "from torch import autograd\n",
        "from scipy.interpolate import interp1d\n",
        "\n",
        "%matplotlib inline\n",
        "\n",
        "device = torch.device(\"cuda\" if torch.cuda.is_available() else \"cpu\")"
      ],
      "execution_count": 2,
      "outputs": []
    },
    {
      "cell_type": "code",
      "metadata": {
        "id": "gpKzgNO_FeBV",
        "colab_type": "code",
        "colab": {
          "base_uri": "https://localhost:8080/",
          "height": 349
        },
        "outputId": "78c7b37e-0245-41f7-a7ba-454766e1e186"
      },
      "source": [
        "### NB For some reason, the newest version of PyTorch does not calculate gradients properly ###\n",
        "\n",
        "!pip install torch==1.4.0 torchvision==0.5.0"
      ],
      "execution_count": 1,
      "outputs": [
        {
          "output_type": "stream",
          "text": [
            "Collecting torch==1.4.0\n",
            "\u001b[?25l  Downloading https://files.pythonhosted.org/packages/24/19/4804aea17cd136f1705a5e98a00618cb8f6ccc375ad8bfa437408e09d058/torch-1.4.0-cp36-cp36m-manylinux1_x86_64.whl (753.4MB)\n",
            "\u001b[K     |████████████████████████████████| 753.4MB 22kB/s \n",
            "\u001b[?25hCollecting torchvision==0.5.0\n",
            "\u001b[?25l  Downloading https://files.pythonhosted.org/packages/7e/90/6141bf41f5655c78e24f40f710fdd4f8a8aff6c8b7c6f0328240f649bdbe/torchvision-0.5.0-cp36-cp36m-manylinux1_x86_64.whl (4.0MB)\n",
            "\u001b[K     |████████████████████████████████| 4.0MB 34.3MB/s \n",
            "\u001b[?25hRequirement already satisfied: pillow>=4.1.1 in /usr/local/lib/python3.6/dist-packages (from torchvision==0.5.0) (7.0.0)\n",
            "Requirement already satisfied: six in /usr/local/lib/python3.6/dist-packages (from torchvision==0.5.0) (1.12.0)\n",
            "Requirement already satisfied: numpy in /usr/local/lib/python3.6/dist-packages (from torchvision==0.5.0) (1.18.5)\n",
            "Installing collected packages: torch, torchvision\n",
            "  Found existing installation: torch 1.5.1+cu101\n",
            "    Uninstalling torch-1.5.1+cu101:\n",
            "      Successfully uninstalled torch-1.5.1+cu101\n",
            "  Found existing installation: torchvision 0.6.1+cu101\n",
            "    Uninstalling torchvision-0.6.1+cu101:\n",
            "      Successfully uninstalled torchvision-0.6.1+cu101\n",
            "Successfully installed torch-1.4.0 torchvision-0.5.0\n"
          ],
          "name": "stdout"
        }
      ]
    },
    {
      "cell_type": "markdown",
      "metadata": {
        "id": "oVDNOjxzlCox",
        "colab_type": "text"
      },
      "source": [
        "**Hyperparameters**"
      ]
    },
    {
      "cell_type": "code",
      "metadata": {
        "id": "AsSaXet0lB0E",
        "colab_type": "code",
        "colab": {}
      },
      "source": [
        "# Environment settings\n",
        "HAND_SIZE = 2\n",
        "CARD_NUM = 50\n",
        "\n",
        "# Communication settings\n",
        "LEN_MESSAGE = 3\n",
        "\n",
        "# DQN learning parameters\n",
        "LR = 0.00003\n",
        "DISCOUNT = 0.5\n",
        "EXPLORATION_DECAY = 0.999\n",
        "EXPLORATION_RATE = 0.95"
      ],
      "execution_count": 36,
      "outputs": []
    },
    {
      "cell_type": "markdown",
      "metadata": {
        "id": "a5PPLvWf79M_",
        "colab_type": "text"
      },
      "source": [
        "**Environment**\n",
        "\n",
        "\n"
      ]
    },
    {
      "cell_type": "code",
      "metadata": {
        "id": "mytQH7P88CFN",
        "colab_type": "code",
        "colab": {}
      },
      "source": [
        "class TheMindEnv():\n",
        "\n",
        "    def __init__(self, hand_size=HAND_SIZE, card_num=CARD_NUM):\n",
        "        self.hand_size = hand_size\n",
        "        self.card_num = card_num\n",
        "        self.num_players = 2\n",
        "        self.reset()\n",
        "\n",
        "    def reset(self):\n",
        "        # reset all attributes \n",
        "        self.cards_played = [] \n",
        "        self.last_action = [-1 for i in range(self.num_players)] # last action taken by the other other agent\n",
        "        self.agent_hand = np.array([np.zeros(self.hand_size) for i in range(self.num_players)], dtype='int64') # __repr__ like representation of agents' hands\n",
        "        self.dones = [False for i in range(self.num_players)] # keep track of agents' active status\n",
        "\n",
        "        self.info = False # if True, the epsiode was succesfully completed by all agents\n",
        "        self.actions_taken = [[] for i in range(self.num_players)] # keep track of actions taken in the episode\n",
        "        self.rew = [None for i in range(self.num_players)] # last reward\n",
        "        self.last_card = [None for i in range(self.num_players)] # last card played\n",
        "\n",
        "        get_cards = np.random.choice(np.arange(1,self.card_num+1), \n",
        "                                     self.num_players*self.hand_size, \n",
        "                                     replace=False) # draw and distribute cards among agents\n",
        "\n",
        "        for i in range(self.num_players):\n",
        "            hand = get_cards[i*self.hand_size:(i+1)*self.hand_size]\n",
        "            self.agent_hand[i] = hand # store actual card values\n",
        "\n",
        "        return self.agent_hand\n",
        "        \n",
        "    def step(self, actions): # actions is a list of agents' actions\n",
        "        self.last_action = actions\n",
        "        self.last_card = [0 for i in range(self.num_players)]\n",
        "        self.rew = [0 for r in range(self.num_players)] # init rewards for the timestep\n",
        "\n",
        "        for i, action in enumerate(actions):\n",
        "            # Place card on the table\n",
        "            if self.dones[i] == False:\n",
        "                # agent is playing a NEW card and not skipping their turn\n",
        "                if action not in self.actions_taken[i] and action < self.hand_size: \n",
        "                    card = self.agent_hand[i][action] # select card from agent's hand\n",
        "                    self.agent_hand[i][action] = 0\n",
        "                    self.rew[i] = 1\n",
        "                    self.actions_taken[i].append(action) # add action to history\n",
        "                    self.last_card[i] = card\n",
        "                    self.cards_played.append(card)\n",
        "            \n",
        "                if all(x==0 for x in self.agent_hand[i]): # if all cards are played, agent is DONE\n",
        "                    self.dones[i] = True\n",
        "        \n",
        "        ### Check that the rules of the table were not violated ###\n",
        "        cards_hands = np.array([i for p in self.agent_hand \n",
        "                                    for i in p if i != 0]) # gather cards across all agents\n",
        "        \n",
        "        if len(cards_hands) > 0:    \n",
        "            lowest = np.min(cards_hands)\n",
        "            for i, card in enumerate(self.last_card):\n",
        "                if card > lowest: # if card played is bigger than the smallest card across agents' hands, rules are violated\n",
        "                    self.dones = [True for a in range(self.num_players)]\n",
        "                    self.rew[i] = -1\n",
        "        else:\n",
        "            self.info = True\n",
        "        \n",
        "        return self.agent_hand, self.rew, self.dones, self.info\n",
        "\n",
        "    # print current game stats\n",
        "    def render(self): \n",
        "        for i in range(self.num_players):\n",
        "            print('Agent {} hand: {} \\nCard played: {}\\nAction index: {}\\n'.format(i+1, self.agent_hand[i],\n",
        "                                                                        self.last_card[i], self.last_action[i]))\n",
        "        print('Cards on the table: {}'.format(self.cards_played))\n",
        "        print('Rewards: {}'.format(self.rew))\n",
        "        print('Dones: {} \\n'.format(self.dones))\n",
        "        if all(self.dones):\n",
        "            print('##########################################\\n')"
      ],
      "execution_count": 37,
      "outputs": []
    },
    {
      "cell_type": "markdown",
      "metadata": {
        "id": "-Ban6-wP8RSd",
        "colab_type": "text"
      },
      "source": [
        "**Agent + Utils**"
      ]
    },
    {
      "cell_type": "code",
      "metadata": {
        "id": "I0M3DCZg8XYT",
        "colab_type": "code",
        "colab": {}
      },
      "source": [
        "class DecompDQN(nn.Module):\n",
        "\n",
        "    def __init__(self, input_dim, output_dim,\n",
        "                 card_embed_size = 64,\n",
        "                 message_embed_size = 128,\n",
        "                 gru_hidden = 256\n",
        "                ):       \n",
        "        super(DecompDQN, self).__init__()\n",
        "        self.input_dim = input_dim\n",
        "        self.output_dim = output_dim\n",
        "        self.card_embed_size = card_embed_size\n",
        "        self.message_embed_size = message_embed_size\n",
        "        self.gru_input = self.card_embed_size * HAND_SIZE + self.message_embed_size\n",
        "        self.gru_hidden = gru_hidden\n",
        "\n",
        "        self.card_embedding = nn.Embedding(input_dim+1, self.card_embed_size)\n",
        "\n",
        "        self.decode_message = nn.Sequential(\n",
        "            nn.Linear(LEN_MESSAGE, self.message_embed_size),\n",
        "            nn.ReLU()\n",
        "        )\n",
        "\n",
        "        self.q_layer = nn.Sequential(\n",
        "            nn.Linear(self.gru_hidden, 128),\n",
        "            nn.ReLU(),\n",
        "            nn.Linear(128, self.output_dim + LEN_MESSAGE)\n",
        "        )\n",
        "\n",
        "        self.rnn = nn.GRU(input_size=self.gru_input,\n",
        "                          hidden_size=self.gru_hidden, \n",
        "                          num_layers=1\n",
        "        )\n",
        "\n",
        "    def to_embed(self, state):\n",
        "        return self.card_embedding(state).view(1,1,-1)\n",
        "\n",
        "    def forward(self, state, message, hidden):\n",
        "        # joint vector representation of hand + message\n",
        "        m = self.decode_message(message).view(1,1,-1)\n",
        "        x = torch.cat((state,m),2)\n",
        "\n",
        "        self.rnn.flatten_parameters()\n",
        "        out, h = self.rnn(x, hidden)\n",
        "\n",
        "        q_vals = self.q_layer(out).squeeze()\n",
        "        \n",
        "        # generate the message\n",
        "        m = torch.sigmoid(q_vals[-LEN_MESSAGE:].view(LEN_MESSAGE))\n",
        "\n",
        "        return q_vals[:self.output_dim], m, h\n",
        "    \n",
        "    # init RNN hidden state\n",
        "    def new_hidden(self):\n",
        "        h0 = torch.zeros(1, 1, self.gru_hidden).to(device)\n",
        "        return h0\n",
        "\n",
        "\n",
        "class Agent():\n",
        "\n",
        "    def __init__(self, obs_dim, action_space, ler=LR,\n",
        "                 discount=DISCOUNT, \n",
        "                 epsilon=EXPLORATION_RATE, eps_decay=EXPLORATION_DECAY):\n",
        "        \n",
        "        self.discount = discount\n",
        "        self.QNet = DecompDQN(obs_dim, action_space).to(device)\n",
        "        self.target_QNet = copy.deepcopy(self.QNet)\n",
        "        self.epsilon = epsilon\n",
        "        self.MSE_loss = nn.MSELoss()\n",
        "        self.optimizer = torch.optim.RMSprop(self.QNet.parameters(),\n",
        "                                             lr=ler,\n",
        "                                             momentum=0.9)\n",
        "        self.action_space = action_space\n",
        "        self.eps_decay = eps_decay\n",
        "    \n",
        "    # return action, its corresponding Q value, and updated RNN hidden state\n",
        "    def sample_action(self, state, message, hidden, action_filter):\n",
        "        self.epsilon *= self.eps_decay\n",
        "\n",
        "        q_vals, mes, h = self.QNet.forward(state, message, hidden) # forward pass through main network to get Q values and new hidden state\n",
        "                                   \n",
        "        if random.random() < self.epsilon: # random action\n",
        "            candidate_actions = [i for i in range(self.action_space) if i not in action_filter]\n",
        "            action = random.choice(candidate_actions)\n",
        "            return (q_vals[action], mes, action), h\n",
        "        else: # choose the action with the highest q value\n",
        "            q_vals[action_filter] = -10000 # so the action already taken wouldn't be selected\n",
        "            q_val, action = torch.max(q_vals,0)\n",
        "            return (q_val, mes, action.item()), h\n",
        "\n",
        "    # DQN algorithm\n",
        "    def train(self, obs):\n",
        "        # q: Q value at t; r: reward; n_s: observation at t+1; d: is the agent done?; n_h: hidden state at t+1\n",
        "        q, r, n_s, d, n_h, action_filter, n_m = obs\n",
        "        r = torch.FloatTensor([r]).to(device)\n",
        "        d = torch.FloatTensor([d]).to(device)\n",
        "\n",
        "        current_q = q.view(1) # Q value returned when sampling action\n",
        "        next_q, _ , _ = self.target_QNet.forward(n_s, n_m, n_h)\n",
        "        next_q[action_filter] = -10000\n",
        "        max_next_q = torch.max(next_q).item()\n",
        "        target_q = r + (self.discount*max_next_q*(1-d)) # target Q value obtained through target DQN net\n",
        "\n",
        "        loss = self.MSE_loss(current_q, target_q)\n",
        "\n",
        "        self.optimizer.zero_grad()\n",
        "        loss.backward(retain_graph=True)\n",
        "        self.optimizer.step()"
      ],
      "execution_count": 38,
      "outputs": []
    },
    {
      "cell_type": "markdown",
      "metadata": {
        "id": "AkbDW6t19WPw",
        "colab_type": "text"
      },
      "source": [
        "\n",
        "**Training Loop**"
      ]
    },
    {
      "cell_type": "code",
      "metadata": {
        "id": "PmiY6rid9aMn",
        "colab_type": "code",
        "colab": {}
      },
      "source": [
        "def run_DQN(episodes, print_info=False, plot_results=True, print_last=10):\n",
        "    env = TheMindEnv()\n",
        "    observation_space = env.card_num\n",
        "    action_space = env.hand_size + 1\n",
        "    num_episodes = episodes\n",
        "    completed_games = 0\n",
        "    scores = []\n",
        "\n",
        "    agents = Agent(obs_dim=observation_space, action_space=action_space)\n",
        "   \n",
        "    for episode in range(num_episodes+1):\n",
        "        observation = env.reset()\n",
        "        observation = [agents.QNet.to_embed(torch.LongTensor(o).view(1, env.hand_size).to(device))\n",
        "                       for o in observation] # convert observations to embeddings\n",
        "        messages = [torch.zeros(LEN_MESSAGE).to(device) for i in range(env.num_players)]\n",
        "        hidden = [agents.QNet.new_hidden() for i in range(env.num_players)] # init RNN hidden states\n",
        "        n_hidden = hidden.copy()\n",
        "        done_n = [False for _ in range(env.num_players)] # agents' active status\n",
        "\n",
        "        step = 0\n",
        "        \n",
        "        while not all(done_n) and step < 10:\n",
        "\n",
        "            if print_info:\n",
        "                if episode > episodes-print_last: \n",
        "                    env.render()\n",
        "                    print('Agent 1 message:', messages[1].data.cpu().numpy(),\n",
        "                          'Agent 2 message:', messages[0].data.cpu().numpy())\n",
        "                    print()\n",
        "\n",
        "            actions = []\n",
        "            qvals = []\n",
        "            n_messages = [] \n",
        "\n",
        "            for a in range(env.num_players):\n",
        "                action, h = agents.sample_action(observation[a], \n",
        "                                                 messages[a],\n",
        "                                                 hidden[a],\n",
        "                                                 env.actions_taken[a]) # get action for each agent\n",
        "                qvals.append(action[0]) # store Q value\n",
        "                n_messages.append(action[1])\n",
        "                actions.append(action[2]) # store action\n",
        "                n_hidden[a] = h # update RNN hidden state\n",
        "\n",
        "            n_observation, reward, done, info = env.step(actions) # take a step\n",
        "            n_observation = [agents.QNet.to_embed(torch.LongTensor(o).view(1, env.hand_size).to(device)) \n",
        "                             for o in n_observation] # convert observations to embeddings\n",
        "            n_messages = n_messages[::-1]\n",
        "                        \n",
        "            for a in range(env.num_players):\n",
        "                if done_n[a] is False:\n",
        "                    experience = (qvals[a], reward[a],\n",
        "                                  n_observation[a], done[a],\n",
        "                                  n_hidden[a], env.actions_taken[a],\n",
        "                                  n_messages[a])\n",
        "                    agents.train(experience) # update network parameters\n",
        "\n",
        "                    if done[a]: \n",
        "                        done_n[a] = True\n",
        "            \n",
        "            observation, hidden, messages = n_observation, n_hidden, n_messages\n",
        "            step+=1\n",
        "\n",
        "        if print_info:\n",
        "            if episode > episodes-print_last:\n",
        "                env.render()\n",
        "\n",
        "        if info == True:\n",
        "            completed_games += 1\n",
        "\n",
        "        # reset target Q net parameters every 50 episodes\n",
        "        if episode % 50 == 0:\n",
        "            agents.target_QNet.load_state_dict(agents.QNet.state_dict())\n",
        "\n",
        "        if episode % 100 == 0:\n",
        "            print('Episode {}: Solved {}% out of 100 games'.format(episode, completed_games))\n",
        "            scores.append(completed_games)\n",
        "            completed_games = 0\n",
        "\n",
        "    if plot_results:\n",
        "        plt.figure(figsize=(10,10))\n",
        "        plt.xticks(np.arange(0, num_episodes+1, 1000)) # plot every 1000\n",
        "        plt.yticks(np.arange(0, 100, 5))\n",
        "\n",
        "        x = np.linspace(0, num_episodes, len(scores))\n",
        "        y = np.array(scores)\n",
        "        f = interp1d(x, y, kind='quadratic')\n",
        "        x_new = np.linspace(0, num_episodes, len(scores)*4)\n",
        "        y_smooth = f(x_new)\n",
        "\n",
        "        plt.fill_between(x_new, y_smooth, y2=0, alpha=0.5)\n",
        "        plt.axis([0,episodes,0,100])\n",
        "        plt.grid()\n",
        "        plt.show()\n",
        "\n",
        "\n",
        "    return agents\n"
      ],
      "execution_count": 39,
      "outputs": []
    },
    {
      "cell_type": "code",
      "metadata": {
        "id": "otuMjCsXgOUs",
        "colab_type": "code",
        "colab": {
          "base_uri": "https://localhost:8080/",
          "height": 978
        },
        "outputId": "e5d7e363-4f0f-4a0a-905c-06dc4a5314ce"
      },
      "source": [
        "train = run_DQN(2000)"
      ],
      "execution_count": 42,
      "outputs": [
        {
          "output_type": "stream",
          "text": [
            "Episode 0: Solved 0% out of 100 games\n",
            "Episode 100: Solved 3% out of 100 games\n",
            "Episode 200: Solved 16% out of 100 games\n",
            "Episode 300: Solved 17% out of 100 games\n",
            "Episode 400: Solved 22% out of 100 games\n",
            "Episode 500: Solved 36% out of 100 games\n",
            "Episode 600: Solved 43% out of 100 games\n",
            "Episode 700: Solved 50% out of 100 games\n",
            "Episode 800: Solved 47% out of 100 games\n",
            "Episode 900: Solved 51% out of 100 games\n",
            "Episode 1000: Solved 58% out of 100 games\n",
            "Episode 1100: Solved 63% out of 100 games\n",
            "Episode 1200: Solved 60% out of 100 games\n",
            "Episode 1300: Solved 65% out of 100 games\n",
            "Episode 1400: Solved 59% out of 100 games\n",
            "Episode 1500: Solved 65% out of 100 games\n",
            "Episode 1600: Solved 65% out of 100 games\n",
            "Episode 1700: Solved 68% out of 100 games\n",
            "Episode 1800: Solved 62% out of 100 games\n",
            "Episode 1900: Solved 68% out of 100 games\n",
            "Episode 2000: Solved 62% out of 100 games\n"
          ],
          "name": "stdout"
        },
        {
          "output_type": "display_data",
          "data": {
            "image/png": "[encoded data removed]",
            "text/plain": [
              "<Figure size 720x720 with 1 Axes>"
            ]
          },
          "metadata": {
            "tags": [],
            "needs_background": "light"
          }
        }
      ]
    }
  ]
}